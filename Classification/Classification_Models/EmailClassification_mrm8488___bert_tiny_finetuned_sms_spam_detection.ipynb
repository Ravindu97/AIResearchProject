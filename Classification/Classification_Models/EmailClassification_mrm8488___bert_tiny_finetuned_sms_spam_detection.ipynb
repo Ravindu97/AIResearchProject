{
  "nbformat": 4,
  "nbformat_minor": 0,
  "metadata": {
    "colab": {
      "provenance": []
    },
    "kernelspec": {
      "name": "python3",
      "display_name": "Python 3"
    },
    "language_info": {
      "name": "python"
    },
    "accelerator": "TPU"
  },
  "cells": [
    {
      "cell_type": "code",
      "execution_count": 9,
      "metadata": {
        "colab": {
          "base_uri": "https://localhost:8080/"
        },
        "id": "Nz7ZPQfxzR9W",
        "outputId": "480feaae-8b1d-4427-c35c-6001e8f66a1c"
      },
      "outputs": [
        {
          "output_type": "stream",
          "name": "stdout",
          "text": [
            "Requirement already satisfied: transformers in /usr/local/lib/python3.10/dist-packages (4.34.0)\n",
            "Requirement already satisfied: filelock in /usr/local/lib/python3.10/dist-packages (from transformers) (3.12.4)\n",
            "Requirement already satisfied: huggingface-hub<1.0,>=0.16.4 in /usr/local/lib/python3.10/dist-packages (from transformers) (0.17.3)\n",
            "Requirement already satisfied: numpy>=1.17 in /usr/local/lib/python3.10/dist-packages (from transformers) (1.23.5)\n",
            "Requirement already satisfied: packaging>=20.0 in /usr/local/lib/python3.10/dist-packages (from transformers) (23.2)\n",
            "Requirement already satisfied: pyyaml>=5.1 in /usr/local/lib/python3.10/dist-packages (from transformers) (6.0.1)\n",
            "Requirement already satisfied: regex!=2019.12.17 in /usr/local/lib/python3.10/dist-packages (from transformers) (2023.6.3)\n",
            "Requirement already satisfied: requests in /usr/local/lib/python3.10/dist-packages (from transformers) (2.31.0)\n",
            "Requirement already satisfied: tokenizers<0.15,>=0.14 in /usr/local/lib/python3.10/dist-packages (from transformers) (0.14.1)\n",
            "Requirement already satisfied: safetensors>=0.3.1 in /usr/local/lib/python3.10/dist-packages (from transformers) (0.4.0)\n",
            "Requirement already satisfied: tqdm>=4.27 in /usr/local/lib/python3.10/dist-packages (from transformers) (4.66.1)\n",
            "Requirement already satisfied: fsspec in /usr/local/lib/python3.10/dist-packages (from huggingface-hub<1.0,>=0.16.4->transformers) (2023.6.0)\n",
            "Requirement already satisfied: typing-extensions>=3.7.4.3 in /usr/local/lib/python3.10/dist-packages (from huggingface-hub<1.0,>=0.16.4->transformers) (4.5.0)\n",
            "Requirement already satisfied: charset-normalizer<4,>=2 in /usr/local/lib/python3.10/dist-packages (from requests->transformers) (3.3.0)\n",
            "Requirement already satisfied: idna<4,>=2.5 in /usr/local/lib/python3.10/dist-packages (from requests->transformers) (3.4)\n",
            "Requirement already satisfied: urllib3<3,>=1.21.1 in /usr/local/lib/python3.10/dist-packages (from requests->transformers) (2.0.6)\n",
            "Requirement already satisfied: certifi>=2017.4.17 in /usr/local/lib/python3.10/dist-packages (from requests->transformers) (2023.7.22)\n",
            "Requirement already satisfied: torch in /usr/local/lib/python3.10/dist-packages (2.0.1+cu118)\n",
            "Requirement already satisfied: filelock in /usr/local/lib/python3.10/dist-packages (from torch) (3.12.4)\n",
            "Requirement already satisfied: typing-extensions in /usr/local/lib/python3.10/dist-packages (from torch) (4.5.0)\n",
            "Requirement already satisfied: sympy in /usr/local/lib/python3.10/dist-packages (from torch) (1.12)\n",
            "Requirement already satisfied: networkx in /usr/local/lib/python3.10/dist-packages (from torch) (3.1)\n",
            "Requirement already satisfied: jinja2 in /usr/local/lib/python3.10/dist-packages (from torch) (3.1.2)\n",
            "Requirement already satisfied: triton==2.0.0 in /usr/local/lib/python3.10/dist-packages (from torch) (2.0.0)\n",
            "Requirement already satisfied: cmake in /usr/local/lib/python3.10/dist-packages (from triton==2.0.0->torch) (3.27.6)\n",
            "Requirement already satisfied: lit in /usr/local/lib/python3.10/dist-packages (from triton==2.0.0->torch) (17.0.2)\n",
            "Requirement already satisfied: MarkupSafe>=2.0 in /usr/local/lib/python3.10/dist-packages (from jinja2->torch) (2.1.3)\n",
            "Requirement already satisfied: mpmath>=0.19 in /usr/local/lib/python3.10/dist-packages (from sympy->torch) (1.3.0)\n"
          ]
        }
      ],
      "source": [
        "!pip install transformers\n",
        "!pip install torch\n"
      ]
    },
    {
      "cell_type": "code",
      "source": [
        "from transformers import AutoModelForSequenceClassification\n",
        "from transformers import AutoTokenizer"
      ],
      "metadata": {
        "id": "Til6z6-LzdYQ"
      },
      "execution_count": 10,
      "outputs": []
    },
    {
      "cell_type": "code",
      "source": [
        "import csv\n",
        "import pandas as pd"
      ],
      "metadata": {
        "id": "Kw7WZuKYzgyV"
      },
      "execution_count": 11,
      "outputs": []
    },
    {
      "cell_type": "code",
      "source": [
        "# Load the pre-trained BERT model.\n",
        "model = AutoModelForSequenceClassification.from_pretrained(\"mrm8488/bert-tiny-finetuned-sms-spam-detection\")"
      ],
      "metadata": {
        "id": "L9m4zEo_ziOT"
      },
      "execution_count": 12,
      "outputs": []
    },
    {
      "cell_type": "code",
      "source": [
        "# Load the BERT tokenizer.\n",
        "tokenizer = AutoTokenizer.from_pretrained(\"bert-base-uncased\")"
      ],
      "metadata": {
        "id": "58_bbaadzl1Z"
      },
      "execution_count": 13,
      "outputs": []
    },
    {
      "cell_type": "code",
      "source": [
        "# Define a function to classify an email.\n",
        "def classify_email(email):\n",
        "    \"\"\"Classifies an email as spam or not spam.\n",
        "\n",
        "    Args:\n",
        "        email: A string containing the email to classify.\n",
        "\n",
        "    Returns:\n",
        "        A string indicating whether the email is spam or not spam.\n",
        "    \"\"\"\n",
        "\n",
        "    tokens = tokenizer(email, return_tensors=\"pt\")\n",
        "    input_ids = tokens.get('input_ids')\n",
        "\n",
        "    logits = model(input_ids)\n",
        "    logits_tensor = logits.logits\n",
        "    predictions = torch.argmax(logits_tensor, dim=-1)\n",
        "\n",
        "    if predictions == 0:\n",
        "        return \"Spam\"\n",
        "    else:\n",
        "        return \"Ham\""
      ],
      "metadata": {
        "id": "KYwvlQ-wzom-"
      },
      "execution_count": 14,
      "outputs": []
    },
    {
      "cell_type": "code",
      "source": [
        "# Read the CSV file containing the emails.\n",
        "emails_df = pd.read_csv(\"SpamHamPreprocessedDataset.csv\")"
      ],
      "metadata": {
        "id": "JYttx4oWzq0g"
      },
      "execution_count": 15,
      "outputs": []
    },
    {
      "cell_type": "code",
      "source": [
        "emails_df"
      ],
      "metadata": {
        "id": "G8v6tEhlzuiI",
        "colab": {
          "base_uri": "https://localhost:8080/",
          "height": 1000
        },
        "outputId": "f983f7e2-7823-4dbc-f2ef-3c41e265dc47"
      },
      "execution_count": 16,
      "outputs": [
        {
          "output_type": "execute_result",
          "data": {
            "text/plain": [
              "                                              Subject Label  \\\n",
              "0     URGENT: Your bank account has been compromised!  Spam   \n",
              "1                                FREE Viagra for men!  Spam   \n",
              "2                             You've won the lottery!  Spam   \n",
              "3                 Your credit card has been declined.  Spam   \n",
              "4             Your computer is infected with a virus!  Spam   \n",
              "5                          Lose weight fast and easy!  Spam   \n",
              "6               Make money online quickly and easily!  Spam   \n",
              "7                                     Get rich quick!  Spam   \n",
              "8   Invest in our new cryptocurrency and earn big ...  Spam   \n",
              "9                 Click here to claim your free gift!  Spam   \n",
              "10            Enter our giveaway to win a new iPhone!  Spam   \n",
              "11          You've been selected for a special offer!  Spam   \n",
              "12           Don't miss out on our limited-time sale!  Spam   \n",
              "13              Act now and save 50% on all products!  Spam   \n",
              "14                   Order now and get free shipping!  Spam   \n",
              "15  Subscribe to our newsletter and get 10% off yo...  Spam   \n",
              "16     Click here to unsubscribe from our newsletter.   Ham   \n",
              "17             Meeting invitation: Sales team meeting   Ham   \n",
              "18        Project deadline reminder: Website redesign   Ham   \n",
              "19                  New company policy: Vacation time   Ham   \n",
              "20        Employee survey: Your feedback is important   Ham   \n",
              "21          Welcome to the team, [new employee name]!   Ham   \n",
              "22                   Happy birthday, [employee name]!   Ham   \n",
              "23  Congratulations on your promotion, [employee n...   Ham   \n",
              "24  [Company name] is proud to announce our new pa...   Ham   \n",
              "25    We're hiring! Apply now for our open positions.   Ham   \n",
              "26  Check out our latest blog post: [blog post title]   Ham   \n",
              "27  Follow us on social media for the latest news ...   Ham   \n",
              "28           Please donate to our charity fundraiser.   Ham   \n",
              "29              Thank you for being a loyal customer!   Ham   \n",
              "30                  We hope you have a wonderful day!   Ham   \n",
              "\n",
              "                                        Generatedbody  \n",
              "0   URGENT: Your bank account has been compromised...  \n",
              "1   FREE Viagra for men!\\nSent on the run\\nOn Mar ...  \n",
              "2   You've won the lottery!\\nSent from my iPhone\\n...  \n",
              "3   Your credit card has been declined.\\nPlease up...  \n",
              "4   Your computer is infected with a virus!\\nSent ...  \n",
              "5   Lose weight fast and easy!\\nSent from my iPhon...  \n",
              "6   Make money online quickly and easily!\\nView th...  \n",
              "7   Get rich quick!\\nDear Jane,\\nCongratulations o...  \n",
              "8   Invest in our new cryptocurrency and earn big ...  \n",
              "9   Click here to claim your free gift!\\nEmail not...  \n",
              "10  Enter our giveaway to win a new iPhone!\\nView ...  \n",
              "11  You've been selected for a special offer!\\nVie...  \n",
              "12  Don't miss out on our limited-time sale!\\nURL\\...  \n",
              "13  Act now and save 50% on all products!\\nView th...  \n",
              "14  Order now and get free shipping!\\nEmail not di...  \n",
              "15  Subscribe to our newsletter and get 10% off yo...  \n",
              "16  Click here to unsubscribe from our newsletter....  \n",
              "17  Meeting invitation: Sales team meeting your pi...  \n",
              "18  Project deadline reminder: Website redesign an...  \n",
              "19  New company policy: Vacation time after NUMBER...  \n",
              "20  Employee survey: Your feedback is important to...  \n",
              "21  Welcome to the team, [new employee name]!\\nOn ...  \n",
              "22  Happy birthday, [employee name]!\\nThis is a ve...  \n",
              "23  Congratulations on your promotion, [employee n...  \n",
              "24  [Company name] is proud to announce our new pa...  \n",
              "25  We're hiring! Apply now for our open positions...  \n",
              "26  Check out our latest blog post: [blog post tit...  \n",
              "27  Follow us on social media for the latest news ...  \n",
              "28  Please donate to our charity fundraiser.\\nts t...  \n",
              "29  Thank you for being a loyal customer!\\nView th...  \n",
              "30  We hope you have a wonderful day!\\nAttachments...  "
            ],
            "text/html": [
              "\n",
              "  <div id=\"df-e7cca113-5cf3-45b5-8834-ce4a9bc73389\" class=\"colab-df-container\">\n",
              "    <div>\n",
              "<style scoped>\n",
              "    .dataframe tbody tr th:only-of-type {\n",
              "        vertical-align: middle;\n",
              "    }\n",
              "\n",
              "    .dataframe tbody tr th {\n",
              "        vertical-align: top;\n",
              "    }\n",
              "\n",
              "    .dataframe thead th {\n",
              "        text-align: right;\n",
              "    }\n",
              "</style>\n",
              "<table border=\"1\" class=\"dataframe\">\n",
              "  <thead>\n",
              "    <tr style=\"text-align: right;\">\n",
              "      <th></th>\n",
              "      <th>Subject</th>\n",
              "      <th>Label</th>\n",
              "      <th>Generatedbody</th>\n",
              "    </tr>\n",
              "  </thead>\n",
              "  <tbody>\n",
              "    <tr>\n",
              "      <th>0</th>\n",
              "      <td>URGENT: Your bank account has been compromised!</td>\n",
              "      <td>Spam</td>\n",
              "      <td>URGENT: Your bank account has been compromised...</td>\n",
              "    </tr>\n",
              "    <tr>\n",
              "      <th>1</th>\n",
              "      <td>FREE Viagra for men!</td>\n",
              "      <td>Spam</td>\n",
              "      <td>FREE Viagra for men!\\nSent on the run\\nOn Mar ...</td>\n",
              "    </tr>\n",
              "    <tr>\n",
              "      <th>2</th>\n",
              "      <td>You've won the lottery!</td>\n",
              "      <td>Spam</td>\n",
              "      <td>You've won the lottery!\\nSent from my iPhone\\n...</td>\n",
              "    </tr>\n",
              "    <tr>\n",
              "      <th>3</th>\n",
              "      <td>Your credit card has been declined.</td>\n",
              "      <td>Spam</td>\n",
              "      <td>Your credit card has been declined.\\nPlease up...</td>\n",
              "    </tr>\n",
              "    <tr>\n",
              "      <th>4</th>\n",
              "      <td>Your computer is infected with a virus!</td>\n",
              "      <td>Spam</td>\n",
              "      <td>Your computer is infected with a virus!\\nSent ...</td>\n",
              "    </tr>\n",
              "    <tr>\n",
              "      <th>5</th>\n",
              "      <td>Lose weight fast and easy!</td>\n",
              "      <td>Spam</td>\n",
              "      <td>Lose weight fast and easy!\\nSent from my iPhon...</td>\n",
              "    </tr>\n",
              "    <tr>\n",
              "      <th>6</th>\n",
              "      <td>Make money online quickly and easily!</td>\n",
              "      <td>Spam</td>\n",
              "      <td>Make money online quickly and easily!\\nView th...</td>\n",
              "    </tr>\n",
              "    <tr>\n",
              "      <th>7</th>\n",
              "      <td>Get rich quick!</td>\n",
              "      <td>Spam</td>\n",
              "      <td>Get rich quick!\\nDear Jane,\\nCongratulations o...</td>\n",
              "    </tr>\n",
              "    <tr>\n",
              "      <th>8</th>\n",
              "      <td>Invest in our new cryptocurrency and earn big ...</td>\n",
              "      <td>Spam</td>\n",
              "      <td>Invest in our new cryptocurrency and earn big ...</td>\n",
              "    </tr>\n",
              "    <tr>\n",
              "      <th>9</th>\n",
              "      <td>Click here to claim your free gift!</td>\n",
              "      <td>Spam</td>\n",
              "      <td>Click here to claim your free gift!\\nEmail not...</td>\n",
              "    </tr>\n",
              "    <tr>\n",
              "      <th>10</th>\n",
              "      <td>Enter our giveaway to win a new iPhone!</td>\n",
              "      <td>Spam</td>\n",
              "      <td>Enter our giveaway to win a new iPhone!\\nView ...</td>\n",
              "    </tr>\n",
              "    <tr>\n",
              "      <th>11</th>\n",
              "      <td>You've been selected for a special offer!</td>\n",
              "      <td>Spam</td>\n",
              "      <td>You've been selected for a special offer!\\nVie...</td>\n",
              "    </tr>\n",
              "    <tr>\n",
              "      <th>12</th>\n",
              "      <td>Don't miss out on our limited-time sale!</td>\n",
              "      <td>Spam</td>\n",
              "      <td>Don't miss out on our limited-time sale!\\nURL\\...</td>\n",
              "    </tr>\n",
              "    <tr>\n",
              "      <th>13</th>\n",
              "      <td>Act now and save 50% on all products!</td>\n",
              "      <td>Spam</td>\n",
              "      <td>Act now and save 50% on all products!\\nView th...</td>\n",
              "    </tr>\n",
              "    <tr>\n",
              "      <th>14</th>\n",
              "      <td>Order now and get free shipping!</td>\n",
              "      <td>Spam</td>\n",
              "      <td>Order now and get free shipping!\\nEmail not di...</td>\n",
              "    </tr>\n",
              "    <tr>\n",
              "      <th>15</th>\n",
              "      <td>Subscribe to our newsletter and get 10% off yo...</td>\n",
              "      <td>Spam</td>\n",
              "      <td>Subscribe to our newsletter and get 10% off yo...</td>\n",
              "    </tr>\n",
              "    <tr>\n",
              "      <th>16</th>\n",
              "      <td>Click here to unsubscribe from our newsletter.</td>\n",
              "      <td>Ham</td>\n",
              "      <td>Click here to unsubscribe from our newsletter....</td>\n",
              "    </tr>\n",
              "    <tr>\n",
              "      <th>17</th>\n",
              "      <td>Meeting invitation: Sales team meeting</td>\n",
              "      <td>Ham</td>\n",
              "      <td>Meeting invitation: Sales team meeting your pi...</td>\n",
              "    </tr>\n",
              "    <tr>\n",
              "      <th>18</th>\n",
              "      <td>Project deadline reminder: Website redesign</td>\n",
              "      <td>Ham</td>\n",
              "      <td>Project deadline reminder: Website redesign an...</td>\n",
              "    </tr>\n",
              "    <tr>\n",
              "      <th>19</th>\n",
              "      <td>New company policy: Vacation time</td>\n",
              "      <td>Ham</td>\n",
              "      <td>New company policy: Vacation time after NUMBER...</td>\n",
              "    </tr>\n",
              "    <tr>\n",
              "      <th>20</th>\n",
              "      <td>Employee survey: Your feedback is important</td>\n",
              "      <td>Ham</td>\n",
              "      <td>Employee survey: Your feedback is important to...</td>\n",
              "    </tr>\n",
              "    <tr>\n",
              "      <th>21</th>\n",
              "      <td>Welcome to the team, [new employee name]!</td>\n",
              "      <td>Ham</td>\n",
              "      <td>Welcome to the team, [new employee name]!\\nOn ...</td>\n",
              "    </tr>\n",
              "    <tr>\n",
              "      <th>22</th>\n",
              "      <td>Happy birthday, [employee name]!</td>\n",
              "      <td>Ham</td>\n",
              "      <td>Happy birthday, [employee name]!\\nThis is a ve...</td>\n",
              "    </tr>\n",
              "    <tr>\n",
              "      <th>23</th>\n",
              "      <td>Congratulations on your promotion, [employee n...</td>\n",
              "      <td>Ham</td>\n",
              "      <td>Congratulations on your promotion, [employee n...</td>\n",
              "    </tr>\n",
              "    <tr>\n",
              "      <th>24</th>\n",
              "      <td>[Company name] is proud to announce our new pa...</td>\n",
              "      <td>Ham</td>\n",
              "      <td>[Company name] is proud to announce our new pa...</td>\n",
              "    </tr>\n",
              "    <tr>\n",
              "      <th>25</th>\n",
              "      <td>We're hiring! Apply now for our open positions.</td>\n",
              "      <td>Ham</td>\n",
              "      <td>We're hiring! Apply now for our open positions...</td>\n",
              "    </tr>\n",
              "    <tr>\n",
              "      <th>26</th>\n",
              "      <td>Check out our latest blog post: [blog post title]</td>\n",
              "      <td>Ham</td>\n",
              "      <td>Check out our latest blog post: [blog post tit...</td>\n",
              "    </tr>\n",
              "    <tr>\n",
              "      <th>27</th>\n",
              "      <td>Follow us on social media for the latest news ...</td>\n",
              "      <td>Ham</td>\n",
              "      <td>Follow us on social media for the latest news ...</td>\n",
              "    </tr>\n",
              "    <tr>\n",
              "      <th>28</th>\n",
              "      <td>Please donate to our charity fundraiser.</td>\n",
              "      <td>Ham</td>\n",
              "      <td>Please donate to our charity fundraiser.\\nts t...</td>\n",
              "    </tr>\n",
              "    <tr>\n",
              "      <th>29</th>\n",
              "      <td>Thank you for being a loyal customer!</td>\n",
              "      <td>Ham</td>\n",
              "      <td>Thank you for being a loyal customer!\\nView th...</td>\n",
              "    </tr>\n",
              "    <tr>\n",
              "      <th>30</th>\n",
              "      <td>We hope you have a wonderful day!</td>\n",
              "      <td>Ham</td>\n",
              "      <td>We hope you have a wonderful day!\\nAttachments...</td>\n",
              "    </tr>\n",
              "  </tbody>\n",
              "</table>\n",
              "</div>\n",
              "    <div class=\"colab-df-buttons\">\n",
              "\n",
              "  <div class=\"colab-df-container\">\n",
              "    <button class=\"colab-df-convert\" onclick=\"convertToInteractive('df-e7cca113-5cf3-45b5-8834-ce4a9bc73389')\"\n",
              "            title=\"Convert this dataframe to an interactive table.\"\n",
              "            style=\"display:none;\">\n",
              "\n",
              "  <svg xmlns=\"http://www.w3.org/2000/svg\" height=\"24px\" viewBox=\"0 -960 960 960\">\n",
              "    <path d=\"M120-120v-720h720v720H120Zm60-500h600v-160H180v160Zm220 220h160v-160H400v160Zm0 220h160v-160H400v160ZM180-400h160v-160H180v160Zm440 0h160v-160H620v160ZM180-180h160v-160H180v160Zm440 0h160v-160H620v160Z\"/>\n",
              "  </svg>\n",
              "    </button>\n",
              "\n",
              "  <style>\n",
              "    .colab-df-container {\n",
              "      display:flex;\n",
              "      gap: 12px;\n",
              "    }\n",
              "\n",
              "    .colab-df-convert {\n",
              "      background-color: #E8F0FE;\n",
              "      border: none;\n",
              "      border-radius: 50%;\n",
              "      cursor: pointer;\n",
              "      display: none;\n",
              "      fill: #1967D2;\n",
              "      height: 32px;\n",
              "      padding: 0 0 0 0;\n",
              "      width: 32px;\n",
              "    }\n",
              "\n",
              "    .colab-df-convert:hover {\n",
              "      background-color: #E2EBFA;\n",
              "      box-shadow: 0px 1px 2px rgba(60, 64, 67, 0.3), 0px 1px 3px 1px rgba(60, 64, 67, 0.15);\n",
              "      fill: #174EA6;\n",
              "    }\n",
              "\n",
              "    .colab-df-buttons div {\n",
              "      margin-bottom: 4px;\n",
              "    }\n",
              "\n",
              "    [theme=dark] .colab-df-convert {\n",
              "      background-color: #3B4455;\n",
              "      fill: #D2E3FC;\n",
              "    }\n",
              "\n",
              "    [theme=dark] .colab-df-convert:hover {\n",
              "      background-color: #434B5C;\n",
              "      box-shadow: 0px 1px 3px 1px rgba(0, 0, 0, 0.15);\n",
              "      filter: drop-shadow(0px 1px 2px rgba(0, 0, 0, 0.3));\n",
              "      fill: #FFFFFF;\n",
              "    }\n",
              "  </style>\n",
              "\n",
              "    <script>\n",
              "      const buttonEl =\n",
              "        document.querySelector('#df-e7cca113-5cf3-45b5-8834-ce4a9bc73389 button.colab-df-convert');\n",
              "      buttonEl.style.display =\n",
              "        google.colab.kernel.accessAllowed ? 'block' : 'none';\n",
              "\n",
              "      async function convertToInteractive(key) {\n",
              "        const element = document.querySelector('#df-e7cca113-5cf3-45b5-8834-ce4a9bc73389');\n",
              "        const dataTable =\n",
              "          await google.colab.kernel.invokeFunction('convertToInteractive',\n",
              "                                                    [key], {});\n",
              "        if (!dataTable) return;\n",
              "\n",
              "        const docLinkHtml = 'Like what you see? Visit the ' +\n",
              "          '<a target=\"_blank\" href=https://colab.research.google.com/notebooks/data_table.ipynb>data table notebook</a>'\n",
              "          + ' to learn more about interactive tables.';\n",
              "        element.innerHTML = '';\n",
              "        dataTable['output_type'] = 'display_data';\n",
              "        await google.colab.output.renderOutput(dataTable, element);\n",
              "        const docLink = document.createElement('div');\n",
              "        docLink.innerHTML = docLinkHtml;\n",
              "        element.appendChild(docLink);\n",
              "      }\n",
              "    </script>\n",
              "  </div>\n",
              "\n",
              "\n",
              "<div id=\"df-aab0253e-41c4-4ac4-bcf3-6971b1723f70\">\n",
              "  <button class=\"colab-df-quickchart\" onclick=\"quickchart('df-aab0253e-41c4-4ac4-bcf3-6971b1723f70')\"\n",
              "            title=\"Suggest charts.\"\n",
              "            style=\"display:none;\">\n",
              "\n",
              "<svg xmlns=\"http://www.w3.org/2000/svg\" height=\"24px\"viewBox=\"0 0 24 24\"\n",
              "     width=\"24px\">\n",
              "    <g>\n",
              "        <path d=\"M19 3H5c-1.1 0-2 .9-2 2v14c0 1.1.9 2 2 2h14c1.1 0 2-.9 2-2V5c0-1.1-.9-2-2-2zM9 17H7v-7h2v7zm4 0h-2V7h2v10zm4 0h-2v-4h2v4z\"/>\n",
              "    </g>\n",
              "</svg>\n",
              "  </button>\n",
              "\n",
              "<style>\n",
              "  .colab-df-quickchart {\n",
              "      --bg-color: #E8F0FE;\n",
              "      --fill-color: #1967D2;\n",
              "      --hover-bg-color: #E2EBFA;\n",
              "      --hover-fill-color: #174EA6;\n",
              "      --disabled-fill-color: #AAA;\n",
              "      --disabled-bg-color: #DDD;\n",
              "  }\n",
              "\n",
              "  [theme=dark] .colab-df-quickchart {\n",
              "      --bg-color: #3B4455;\n",
              "      --fill-color: #D2E3FC;\n",
              "      --hover-bg-color: #434B5C;\n",
              "      --hover-fill-color: #FFFFFF;\n",
              "      --disabled-bg-color: #3B4455;\n",
              "      --disabled-fill-color: #666;\n",
              "  }\n",
              "\n",
              "  .colab-df-quickchart {\n",
              "    background-color: var(--bg-color);\n",
              "    border: none;\n",
              "    border-radius: 50%;\n",
              "    cursor: pointer;\n",
              "    display: none;\n",
              "    fill: var(--fill-color);\n",
              "    height: 32px;\n",
              "    padding: 0;\n",
              "    width: 32px;\n",
              "  }\n",
              "\n",
              "  .colab-df-quickchart:hover {\n",
              "    background-color: var(--hover-bg-color);\n",
              "    box-shadow: 0 1px 2px rgba(60, 64, 67, 0.3), 0 1px 3px 1px rgba(60, 64, 67, 0.15);\n",
              "    fill: var(--button-hover-fill-color);\n",
              "  }\n",
              "\n",
              "  .colab-df-quickchart-complete:disabled,\n",
              "  .colab-df-quickchart-complete:disabled:hover {\n",
              "    background-color: var(--disabled-bg-color);\n",
              "    fill: var(--disabled-fill-color);\n",
              "    box-shadow: none;\n",
              "  }\n",
              "\n",
              "  .colab-df-spinner {\n",
              "    border: 2px solid var(--fill-color);\n",
              "    border-color: transparent;\n",
              "    border-bottom-color: var(--fill-color);\n",
              "    animation:\n",
              "      spin 1s steps(1) infinite;\n",
              "  }\n",
              "\n",
              "  @keyframes spin {\n",
              "    0% {\n",
              "      border-color: transparent;\n",
              "      border-bottom-color: var(--fill-color);\n",
              "      border-left-color: var(--fill-color);\n",
              "    }\n",
              "    20% {\n",
              "      border-color: transparent;\n",
              "      border-left-color: var(--fill-color);\n",
              "      border-top-color: var(--fill-color);\n",
              "    }\n",
              "    30% {\n",
              "      border-color: transparent;\n",
              "      border-left-color: var(--fill-color);\n",
              "      border-top-color: var(--fill-color);\n",
              "      border-right-color: var(--fill-color);\n",
              "    }\n",
              "    40% {\n",
              "      border-color: transparent;\n",
              "      border-right-color: var(--fill-color);\n",
              "      border-top-color: var(--fill-color);\n",
              "    }\n",
              "    60% {\n",
              "      border-color: transparent;\n",
              "      border-right-color: var(--fill-color);\n",
              "    }\n",
              "    80% {\n",
              "      border-color: transparent;\n",
              "      border-right-color: var(--fill-color);\n",
              "      border-bottom-color: var(--fill-color);\n",
              "    }\n",
              "    90% {\n",
              "      border-color: transparent;\n",
              "      border-bottom-color: var(--fill-color);\n",
              "    }\n",
              "  }\n",
              "</style>\n",
              "\n",
              "  <script>\n",
              "    async function quickchart(key) {\n",
              "      const quickchartButtonEl =\n",
              "        document.querySelector('#' + key + ' button');\n",
              "      quickchartButtonEl.disabled = true;  // To prevent multiple clicks.\n",
              "      quickchartButtonEl.classList.add('colab-df-spinner');\n",
              "      try {\n",
              "        const charts = await google.colab.kernel.invokeFunction(\n",
              "            'suggestCharts', [key], {});\n",
              "      } catch (error) {\n",
              "        console.error('Error during call to suggestCharts:', error);\n",
              "      }\n",
              "      quickchartButtonEl.classList.remove('colab-df-spinner');\n",
              "      quickchartButtonEl.classList.add('colab-df-quickchart-complete');\n",
              "    }\n",
              "    (() => {\n",
              "      let quickchartButtonEl =\n",
              "        document.querySelector('#df-aab0253e-41c4-4ac4-bcf3-6971b1723f70 button');\n",
              "      quickchartButtonEl.style.display =\n",
              "        google.colab.kernel.accessAllowed ? 'block' : 'none';\n",
              "    })();\n",
              "  </script>\n",
              "</div>\n",
              "    </div>\n",
              "  </div>\n"
            ]
          },
          "metadata": {},
          "execution_count": 16
        }
      ]
    },
    {
      "cell_type": "code",
      "source": [
        "import torch\n",
        "# Add a new column to the DataFrame to store the spam/ham classification.\n",
        "emails_df[\"spam_or_ham\"] = emails_df[\"Generatedbody\"].apply(classify_email)"
      ],
      "metadata": {
        "id": "7nH4IUm00Kvt"
      },
      "execution_count": 17,
      "outputs": []
    },
    {
      "cell_type": "code",
      "source": [
        "# Save the updated DataFrame to a new CSV file.\n",
        "emails_df.to_csv(\"EmailClassification_mrm8488 _ bert-tiny-finetuned-sms-spam-detection.csv\", index=False)"
      ],
      "metadata": {
        "id": "IIIjnhon0L82"
      },
      "execution_count": 18,
      "outputs": []
    },
    {
      "cell_type": "code",
      "source": [
        "from sklearn.metrics import confusion_matrix, classification_report\n",
        "\n",
        "# Create a confusion matrix\n",
        "confusion = confusion_matrix(emails_df[\"Label\"], emails_df[\"spam_or_ham\"], labels=[\"Ham\", \"Spam\"])\n",
        "\n",
        "# Print the confusion matrix\n",
        "print(\"Confusion Matrix:\")\n",
        "print(confusion)"
      ],
      "metadata": {
        "id": "ERkY8orB0fiB",
        "colab": {
          "base_uri": "https://localhost:8080/"
        },
        "outputId": "f97ef380-2e63-4dc2-ee0f-3c0c5c8adff9"
      },
      "execution_count": 19,
      "outputs": [
        {
          "output_type": "stream",
          "name": "stdout",
          "text": [
            "Confusion Matrix:\n",
            "[[ 7  8]\n",
            " [10  6]]\n"
          ]
        }
      ]
    },
    {
      "cell_type": "code",
      "source": [
        "# Create a classification report\n",
        "report = classification_report(emails_df[\"Label\"], emails_df[\"spam_or_ham\"], target_names=[\"Ham\", \"Spam\"])\n",
        "\n",
        "# Print the classification report\n",
        "print(\"\\nClassification Report:\")\n",
        "print(report)"
      ],
      "metadata": {
        "colab": {
          "base_uri": "https://localhost:8080/"
        },
        "id": "MLwkiJoLX_6i",
        "outputId": "0c3e7fc6-8c30-4e1f-f911-171afbd4ee65"
      },
      "execution_count": 20,
      "outputs": [
        {
          "output_type": "stream",
          "name": "stdout",
          "text": [
            "\n",
            "Classification Report:\n",
            "              precision    recall  f1-score   support\n",
            "\n",
            "         Ham       0.41      0.47      0.44        15\n",
            "        Spam       0.43      0.38      0.40        16\n",
            "\n",
            "    accuracy                           0.42        31\n",
            "   macro avg       0.42      0.42      0.42        31\n",
            "weighted avg       0.42      0.42      0.42        31\n",
            "\n"
          ]
        }
      ]
    },
    {
      "cell_type": "code",
      "source": [
        "!pip install matplotlib seaborn"
      ],
      "metadata": {
        "colab": {
          "base_uri": "https://localhost:8080/"
        },
        "id": "f-41CBdYYB35",
        "outputId": "7256c316-b880-456b-9214-8bd1e86fde27"
      },
      "execution_count": 21,
      "outputs": [
        {
          "output_type": "stream",
          "name": "stdout",
          "text": [
            "Requirement already satisfied: matplotlib in /usr/local/lib/python3.10/dist-packages (3.7.1)\n",
            "Requirement already satisfied: seaborn in /usr/local/lib/python3.10/dist-packages (0.12.2)\n",
            "Requirement already satisfied: contourpy>=1.0.1 in /usr/local/lib/python3.10/dist-packages (from matplotlib) (1.1.1)\n",
            "Requirement already satisfied: cycler>=0.10 in /usr/local/lib/python3.10/dist-packages (from matplotlib) (0.12.0)\n",
            "Requirement already satisfied: fonttools>=4.22.0 in /usr/local/lib/python3.10/dist-packages (from matplotlib) (4.43.0)\n",
            "Requirement already satisfied: kiwisolver>=1.0.1 in /usr/local/lib/python3.10/dist-packages (from matplotlib) (1.4.5)\n",
            "Requirement already satisfied: numpy>=1.20 in /usr/local/lib/python3.10/dist-packages (from matplotlib) (1.23.5)\n",
            "Requirement already satisfied: packaging>=20.0 in /usr/local/lib/python3.10/dist-packages (from matplotlib) (23.2)\n",
            "Requirement already satisfied: pillow>=6.2.0 in /usr/local/lib/python3.10/dist-packages (from matplotlib) (9.4.0)\n",
            "Requirement already satisfied: pyparsing>=2.3.1 in /usr/local/lib/python3.10/dist-packages (from matplotlib) (3.1.1)\n",
            "Requirement already satisfied: python-dateutil>=2.7 in /usr/local/lib/python3.10/dist-packages (from matplotlib) (2.8.2)\n",
            "Requirement already satisfied: pandas>=0.25 in /usr/local/lib/python3.10/dist-packages (from seaborn) (1.5.3)\n",
            "Requirement already satisfied: pytz>=2020.1 in /usr/local/lib/python3.10/dist-packages (from pandas>=0.25->seaborn) (2023.3.post1)\n",
            "Requirement already satisfied: six>=1.5 in /usr/local/lib/python3.10/dist-packages (from python-dateutil>=2.7->matplotlib) (1.16.0)\n"
          ]
        }
      ]
    },
    {
      "cell_type": "code",
      "source": [
        "import matplotlib.pyplot as plt\n",
        "import seaborn as sns\n",
        "\n",
        "# Define the labels for the matrix\n",
        "labels = [\"ham\", \"spam\"]\n",
        "\n",
        "# Create a seaborn heatmap\n",
        "plt.figure(figsize=(8, 6))\n",
        "sns.set(font_scale=1.2)  # Adjust font size for better readability\n",
        "sns.heatmap(confusion, annot=True, fmt=\"d\", cmap=\"Blues\", xticklabels=labels, yticklabels=labels)\n",
        "plt.xlabel(\"Predicted\")\n",
        "plt.ylabel(\"Actual\")\n",
        "plt.title(\"Confusion Matrix\")\n",
        "plt.show()"
      ],
      "metadata": {
        "colab": {
          "base_uri": "https://localhost:8080/",
          "height": 578
        },
        "id": "F1loxav0YDin",
        "outputId": "f6919806-4407-43d7-f647-8e70ab828af7"
      },
      "execution_count": 22,
      "outputs": [
        {
          "output_type": "display_data",
          "data": {
            "text/plain": [
              "<Figure size 800x600 with 2 Axes>"
            ],
            "image/png": "[encoded data removed]"
          },
          "metadata": {}
        }
      ]
    },
    {
      "cell_type": "code",
      "source": [
        "import matplotlib.pyplot as plt\n",
        "import seaborn as sns\n",
        "\n",
        "# Define the labels for the matrix\n",
        "labels = [\"ham\", \"spam\"]\n",
        "\n",
        "# Create a seaborn heatmap\n",
        "plt.figure(figsize=(8, 6))\n",
        "sns.set(font_scale=1.2)  # Adjust font size for better readability\n",
        "\n",
        "# Create a custom annotation array to label the cells with values and labels without hardcoding\n",
        "annotations = []\n",
        "for i in range(len(labels)):\n",
        "    row = []\n",
        "    for j in range(len(labels)):\n",
        "        cell_label = f\"{confusion[i, j]}\\n\"\n",
        "        if i == 0:\n",
        "            cell_label += \"TN\" if j == 0 else \"FP\"\n",
        "        else:\n",
        "            cell_label += \"FN\" if j == 0 else \"TP\"\n",
        "        row.append(cell_label)\n",
        "    annotations.append(row)\n",
        "\n",
        "# Create the heatmap with custom annotations\n",
        "sns.heatmap(confusion, annot=annotations, fmt=\"\", cmap=\"Blues\", xticklabels=labels, yticklabels=labels)\n",
        "\n",
        "# Customize the axis labels and title\n",
        "plt.xlabel(\"Predicted\")\n",
        "plt.ylabel(\"Actual\")\n",
        "plt.title(\"Confusion Matrix\")\n",
        "\n",
        "# Show the plot\n",
        "plt.show()"
      ],
      "metadata": {
        "colab": {
          "base_uri": "https://localhost:8080/",
          "height": 578
        },
        "id": "NW7xsPKxYFjD",
        "outputId": "d5674ba4-bd68-4df9-f0ba-6c5d6501d2ca"
      },
      "execution_count": 23,
      "outputs": [
        {
          "output_type": "display_data",
          "data": {
            "text/plain": [
              "<Figure size 800x600 with 2 Axes>"
            ],
            "image/png": "[encoded data removed]"
          },
          "metadata": {}
        }
      ]
    },
    {
      "cell_type": "code",
      "source": [
        "!pip install tabulate"
      ],
      "metadata": {
        "colab": {
          "base_uri": "https://localhost:8080/"
        },
        "id": "t8nw5r_EYHUF",
        "outputId": "4647963f-3b5f-4c40-ac20-c180efa76dbc"
      },
      "execution_count": 24,
      "outputs": [
        {
          "output_type": "stream",
          "name": "stdout",
          "text": [
            "Requirement already satisfied: tabulate in /usr/local/lib/python3.10/dist-packages (0.9.0)\n"
          ]
        }
      ]
    },
    {
      "cell_type": "code",
      "source": [
        "from sklearn.metrics import classification_report\n",
        "from tabulate import tabulate\n",
        "\n",
        "# Get the classification report as a dictionary\n",
        "report_dict = classification_report(emails_df[\"Label\"], emails_df[\"spam_or_ham\"], target_names=[\"ham\", \"spam\"], output_dict=True)\n",
        "\n",
        "# Create a nicely formatted table using tabulate\n",
        "report_table = []\n",
        "for label, metrics in report_dict.items():\n",
        "    if label in [\"ham\", \"spam\"]:\n",
        "        report_table.append([label, metrics[\"precision\"], metrics[\"recall\"], metrics[\"f1-score\"], metrics[\"support\"]])\n",
        "\n",
        "# Add a header row to the table\n",
        "header = [\"Class\", \"Precision\", \"Recall\", \"F1-Score\", \"Support\"]\n",
        "report_table.insert(0, header)\n",
        "\n",
        "# Print the formatted classification report\n",
        "print(tabulate(report_table, headers=\"firstrow\", tablefmt=\"pretty\"))"
      ],
      "metadata": {
        "colab": {
          "base_uri": "https://localhost:8080/"
        },
        "id": "u0ME1BF4YI8F",
        "outputId": "54ae7cad-1d55-4efa-ed14-859d770135f0"
      },
      "execution_count": 25,
      "outputs": [
        {
          "output_type": "stream",
          "name": "stdout",
          "text": [
            "+-------+---------------------+--------------------+---------------------+---------+\n",
            "| Class |      Precision      |       Recall       |      F1-Score       | Support |\n",
            "+-------+---------------------+--------------------+---------------------+---------+\n",
            "|  ham  | 0.4117647058823529  | 0.4666666666666667 | 0.43749999999999994 |   15    |\n",
            "| spam  | 0.42857142857142855 |       0.375        | 0.39999999999999997 |   16    |\n",
            "+-------+---------------------+--------------------+---------------------+---------+\n"
          ]
        }
      ]
    },
    {
      "cell_type": "code",
      "source": [
        "import matplotlib.pyplot as plt\n",
        "import seaborn as sns\n",
        "from sklearn.metrics import classification_report\n",
        "\n",
        "# Get the classification report as a dictionary\n",
        "report_dict = classification_report(emails_df[\"Label\"], emails_df[\"spam_or_ham\"], target_names=[\"ham\", \"spam\"], output_dict=True)\n",
        "\n",
        "# Extract relevant metrics for each class\n",
        "class_names = [\"ham\", \"spam\"]\n",
        "metrics = {\n",
        "    \"Precision\": [report_dict[class_name][\"precision\"] for class_name in class_names],\n",
        "    \"Recall\": [report_dict[class_name][\"recall\"] for class_name in class_names],\n",
        "    \"F1-Score\": [report_dict[class_name][\"f1-score\"] for class_name in class_names],\n",
        "    \"Support\": [report_dict[class_name][\"support\"] for class_name in class_names],\n",
        "}\n",
        "\n",
        "# Create subplots for each metric\n",
        "fig, axes = plt.subplots(1, len(metrics), figsize=(16, 6))\n",
        "\n",
        "# Customize the colors\n",
        "colors = [\"skyblue\", \"lightcoral\"]\n",
        "\n",
        "# Plot each metric\n",
        "for i, (metric_name, values) in enumerate(metrics.items()):\n",
        "    sns.barplot(x=class_names, y=values, ax=axes[i], palette=colors)\n",
        "    axes[i].set_title(f\"{metric_name} by Class\")\n",
        "    axes[i].set_xlabel(\"Class\")\n",
        "    axes[i].set_ylabel(metric_name)\n",
        "\n",
        "# Adjust layout\n",
        "plt.tight_layout()\n",
        "\n",
        "# Show the plot\n",
        "plt.show()"
      ],
      "metadata": {
        "colab": {
          "base_uri": "https://localhost:8080/",
          "height": 564
        },
        "id": "Lw8aOUZyYKpl",
        "outputId": "0858e8a7-651e-4e85-8a5e-234eb6cea4de"
      },
      "execution_count": 26,
      "outputs": [
        {
          "output_type": "display_data",
          "data": {
            "text/plain": [
              "<Figure size 1600x600 with 4 Axes>"
            ],
            "image/png": "[encoded data removed]"
          },
          "metadata": {}
        }
      ]
    },
    {
      "cell_type": "code",
      "source": [],
      "metadata": {
        "id": "3B6A3R25YMqf"
      },
      "execution_count": 26,
      "outputs": []
    }
  ]
}